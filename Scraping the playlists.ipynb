{
 "cells": [
  {
   "cell_type": "code",
   "execution_count": 146,
   "metadata": {},
   "outputs": [],
   "source": [
    "import pandas as pd\n",
    "import numpy as np\n",
    "import random\n",
    "import matplotlib.pyplot as plt\n",
    "import spotipy\n",
    "from spotipy.oauth2 import SpotifyClientCredentials\n",
    "\n",
    "spotify = spotipy.Spotify(client_credentials_manager=SpotifyClientCredentials(client_id = \"d8b4f03165f841108c724b8be1443973\", client_secret = \"c0af1b9610c1409f9136e828301cf298\"))\n",
    "\n",
    "my_playlist_id = \"20UxH3dGvgrJVU0iRlossg\"\n",
    "random_playlist_id = \"05xyO7biBhcZ9OIXPBRiST\"\n",
    "\n",
    "mine = spotify.playlist_tracks(my_playlist_id)\n",
    "randie = spotify.playlist_tracks(random_playlist_id)"
   ]
  },
  {
   "cell_type": "code",
   "execution_count": null,
   "metadata": {},
   "outputs": [],
   "source": [
    "def random_chooser(len_out, source_lst):\n",
    "    lst_out = []\n",
    "    for index in range(len_out):\n",
    "        temp = random.choice(source_lst)\n",
    "        source_lst.remove(temp)\n",
    "        lst_out.append(temp)\n",
    "    return lst_out"
   ]
  },
  {
   "cell_type": "code",
   "execution_count": 151,
   "metadata": {},
   "outputs": [],
   "source": [
    "my_playlist = []\n",
    "random_playlist_full = []\n",
    "random_playlist = []\n",
    "\n",
    "for song_index in range(len(mine[\"items\"])):\n",
    "    my_playlist.append(mine[\"items\"][song_index][\"track\"][\"id\"])\n",
    "\n",
    "for song_index in range(len(randie[\"items\"])):\n",
    "    random_playlist_full.append(randie[\"items\"][song_index][\"track\"][\"id\"])\n",
    "    \n",
    "random_playlist = random_chooser(len(my_playlist), random_playlist_full)"
   ]
  }
 ],
 "metadata": {
  "kernelspec": {
   "display_name": "Python 3",
   "language": "python",
   "name": "python3"
  },
  "language_info": {
   "codemirror_mode": {
    "name": "ipython",
    "version": 3
   },
   "file_extension": ".py",
   "mimetype": "text/x-python",
   "name": "python",
   "nbconvert_exporter": "python",
   "pygments_lexer": "ipython3",
   "version": "3.7.6"
  }
 },
 "nbformat": 4,
 "nbformat_minor": 4
}
